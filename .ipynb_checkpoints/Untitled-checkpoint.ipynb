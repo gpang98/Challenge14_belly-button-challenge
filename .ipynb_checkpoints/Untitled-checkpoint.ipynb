{
 "cells": [
  {
   "cell_type": "code",
   "execution_count": 5,
   "id": "f2538ccb-52ef-4476-ae15-04da16bd9720",
   "metadata": {},
   "outputs": [
    {
     "data": {
      "text/html": [
       "\n",
       "<!DOCTYPE html>\n",
       "<html lang=\"en\">\n",
       "<head>\n",
       "    <meta charset=\"UTF-8\">\n",
       "    <meta name=\"viewport\" content=\"width=device-width, initial-scale=1.0\">\n",
       "    <title>D3 JSON Example</title>\n",
       "    <!-- Include D3.js library -->\n",
       "    <script src=\"https://d3js.org/d3.v5.min.js\"></script>\n",
       "</head>\n",
       "<body>\n",
       "\n",
       "<script>\n",
       "    // URL for the JSON file\n",
       "    var jsonURL = \"https://2u-data-curriculum-team.s3.amazonaws.com/dataviz-classroom/v1.1/14-Interactive-Web-Visualizations/02-Homework/samples.json\";\n",
       "\n",
       "    // Use D3 to load the JSON file\n",
       "    d3.json(jsonURL).then(function(data) {\n",
       "        // Data is loaded, you can work with it here\n",
       "        console.log(data);\n",
       "    }).catch(function(error) {\n",
       "        // Handle any errors that occurred while loading the JSON file\n",
       "        console.error(\"Error loading the JSON file: \" + error);\n",
       "    });\n",
       "</script>\n",
       "\n",
       "</body>\n",
       "</html>\n"
      ],
      "text/plain": [
       "<IPython.core.display.HTML object>"
      ]
     },
     "metadata": {},
     "output_type": "display_data"
    }
   ],
   "source": [
    "from IPython.display import display, HTML\n",
    "\n",
    "# HTML and JavaScript code to use D3 to read samples.json\n",
    "d3_code = \"\"\"\n",
    "<!DOCTYPE html>\n",
    "<html lang=\"en\">\n",
    "<head>\n",
    "    <meta charset=\"UTF-8\">\n",
    "    <meta name=\"viewport\" content=\"width=device-width, initial-scale=1.0\">\n",
    "    <title>D3 JSON Example</title>\n",
    "    <!-- Include D3.js library -->\n",
    "    <script src=\"https://d3js.org/d3.v5.min.js\"></script>\n",
    "</head>\n",
    "<body>\n",
    "\n",
    "<script>\n",
    "    // URL for the JSON file\n",
    "    var jsonURL = \"https://2u-data-curriculum-team.s3.amazonaws.com/dataviz-classroom/v1.1/14-Interactive-Web-Visualizations/02-Homework/samples.json\";\n",
    "\n",
    "    // Use D3 to load the JSON file\n",
    "    d3.json(jsonURL).then(function(data) {\n",
    "        // Data is loaded, you can work with it here\n",
    "        console.log(data);\n",
    "    }).catch(function(error) {\n",
    "        // Handle any errors that occurred while loading the JSON file\n",
    "        console.error(\"Error loading the JSON file: \" + error);\n",
    "    });\n",
    "</script>\n",
    "\n",
    "</body>\n",
    "</html>\n",
    "\"\"\"\n",
    "\n",
    "# Display the HTML and JavaScript code\n",
    "display(HTML(d3_code))\n",
    "\n"
   ]
  },
  {
   "cell_type": "code",
   "execution_count": null,
   "id": "c0f6b1ac-e888-4319-a036-eb5da808224d",
   "metadata": {},
   "outputs": [],
   "source": []
  },
  {
   "cell_type": "code",
   "execution_count": null,
   "id": "67831fb0-9fd8-4b7b-afff-a12380fd7d4d",
   "metadata": {},
   "outputs": [],
   "source": []
  },
  {
   "cell_type": "code",
   "execution_count": null,
   "id": "67a36fc4-8739-411e-8267-919c411c5790",
   "metadata": {},
   "outputs": [],
   "source": []
  }
 ],
 "metadata": {
  "kernelspec": {
   "display_name": "PythonData",
   "language": "python",
   "name": "pythondata"
  },
  "language_info": {
   "codemirror_mode": {
    "name": "ipython",
    "version": 3
   },
   "file_extension": ".py",
   "mimetype": "text/x-python",
   "name": "python",
   "nbconvert_exporter": "python",
   "pygments_lexer": "ipython3",
   "version": "3.11.5"
  }
 },
 "nbformat": 4,
 "nbformat_minor": 5
}
